{
 "metadata": {
  "language_info": {
   "codemirror_mode": {
    "name": "ipython",
    "version": 3
   },
   "file_extension": ".py",
   "mimetype": "text/x-python",
   "name": "python",
   "nbconvert_exporter": "python",
   "pygments_lexer": "ipython3",
   "version": "3.8.5"
  },
  "orig_nbformat": 2,
  "kernelspec": {
   "name": "python385jvsc74a57bd04b49143045b77bc3480d9f3d9e48406c091dcf6a587fcded00b3eee9e4b31548",
   "display_name": "Python 3.8.5 64-bit ('base': conda)"
  },
  "metadata": {
   "interpreter": {
    "hash": "00c2d7f58209d28d00450bdef544a4ebf0f3b64b0371f6bc30bfdc78bcb5040f"
   }
  }
 },
 "nbformat": 4,
 "nbformat_minor": 2,
 "cells": [
  {
   "source": [
    "# **Heuríticas de recomendação**"
   ],
   "cell_type": "markdown",
   "metadata": {}
  },
  {
   "source": [
    "## **Heuríticas de recomendação e entendendo o que é colaboração**"
   ],
   "cell_type": "markdown",
   "metadata": {}
  },
  {
   "cell_type": "code",
   "execution_count": 13,
   "metadata": {},
   "outputs": [
    {
     "output_type": "execute_result",
     "data": {
      "text/plain": [
       "                                     titulo  \\\n",
       "filmeId                                       \n",
       "1                          Toy Story (1995)   \n",
       "2                            Jumanji (1995)   \n",
       "3                   Grumpier Old Men (1995)   \n",
       "4                  Waiting to Exhale (1995)   \n",
       "5        Father of the Bride Part II (1995)   \n",
       "\n",
       "                                             generos  \n",
       "filmeId                                               \n",
       "1        Adventure|Animation|Children|Comedy|Fantasy  \n",
       "2                         Adventure|Children|Fantasy  \n",
       "3                                     Comedy|Romance  \n",
       "4                               Comedy|Drama|Romance  \n",
       "5                                             Comedy  "
      ],
      "text/html": "<div>\n<style scoped>\n    .dataframe tbody tr th:only-of-type {\n        vertical-align: middle;\n    }\n\n    .dataframe tbody tr th {\n        vertical-align: top;\n    }\n\n    .dataframe thead th {\n        text-align: right;\n    }\n</style>\n<table border=\"1\" class=\"dataframe\">\n  <thead>\n    <tr style=\"text-align: right;\">\n      <th></th>\n      <th>titulo</th>\n      <th>generos</th>\n    </tr>\n    <tr>\n      <th>filmeId</th>\n      <th></th>\n      <th></th>\n    </tr>\n  </thead>\n  <tbody>\n    <tr>\n      <th>1</th>\n      <td>Toy Story (1995)</td>\n      <td>Adventure|Animation|Children|Comedy|Fantasy</td>\n    </tr>\n    <tr>\n      <th>2</th>\n      <td>Jumanji (1995)</td>\n      <td>Adventure|Children|Fantasy</td>\n    </tr>\n    <tr>\n      <th>3</th>\n      <td>Grumpier Old Men (1995)</td>\n      <td>Comedy|Romance</td>\n    </tr>\n    <tr>\n      <th>4</th>\n      <td>Waiting to Exhale (1995)</td>\n      <td>Comedy|Drama|Romance</td>\n    </tr>\n    <tr>\n      <th>5</th>\n      <td>Father of the Bride Part II (1995)</td>\n      <td>Comedy</td>\n    </tr>\n  </tbody>\n</table>\n</div>"
     },
     "metadata": {},
     "execution_count": 13
    }
   ],
   "source": [
    "import pandas as pd\n",
    "\n",
    "filmes = pd.read_csv(\"C:/ml-latest-small/movies.csv\")\n",
    "filmes.columns = [\"filmeId\", \"titulo\", \"generos\"]\n",
    "filmes = filmes.set_index(\"filmeId\")\n",
    "filmes.head()"
   ]
  },
  {
   "cell_type": "code",
   "execution_count": 14,
   "metadata": {},
   "outputs": [
    {
     "output_type": "execute_result",
     "data": {
      "text/plain": [
       "   usuarioID  filmeId  nota    momento\n",
       "0          1        1   4.0  964982703\n",
       "1          1        3   4.0  964981247\n",
       "2          1        6   4.0  964982224\n",
       "3          1       47   5.0  964983815\n",
       "4          1       50   5.0  964982931"
      ],
      "text/html": "<div>\n<style scoped>\n    .dataframe tbody tr th:only-of-type {\n        vertical-align: middle;\n    }\n\n    .dataframe tbody tr th {\n        vertical-align: top;\n    }\n\n    .dataframe thead th {\n        text-align: right;\n    }\n</style>\n<table border=\"1\" class=\"dataframe\">\n  <thead>\n    <tr style=\"text-align: right;\">\n      <th></th>\n      <th>usuarioID</th>\n      <th>filmeId</th>\n      <th>nota</th>\n      <th>momento</th>\n    </tr>\n  </thead>\n  <tbody>\n    <tr>\n      <th>0</th>\n      <td>1</td>\n      <td>1</td>\n      <td>4.0</td>\n      <td>964982703</td>\n    </tr>\n    <tr>\n      <th>1</th>\n      <td>1</td>\n      <td>3</td>\n      <td>4.0</td>\n      <td>964981247</td>\n    </tr>\n    <tr>\n      <th>2</th>\n      <td>1</td>\n      <td>6</td>\n      <td>4.0</td>\n      <td>964982224</td>\n    </tr>\n    <tr>\n      <th>3</th>\n      <td>1</td>\n      <td>47</td>\n      <td>5.0</td>\n      <td>964983815</td>\n    </tr>\n    <tr>\n      <th>4</th>\n      <td>1</td>\n      <td>50</td>\n      <td>5.0</td>\n      <td>964982931</td>\n    </tr>\n  </tbody>\n</table>\n</div>"
     },
     "metadata": {},
     "execution_count": 14
    }
   ],
   "source": [
    "notas = pd.read_csv(\"C:/ml-latest-small/ratings.csv\")\n",
    "notas.columns = [\"usuarioID\", \"filmeId\", \"nota\", \"momento\"]\n",
    "notas.head()"
   ]
  },
  {
   "cell_type": "code",
   "execution_count": 15,
   "metadata": {},
   "outputs": [
    {
     "output_type": "execute_result",
     "data": {
      "text/plain": [
       "           usuarioID        filmeId           nota       momento\n",
       "count  100836.000000  100836.000000  100836.000000  1.008360e+05\n",
       "mean      326.127564   19435.295718       3.501557  1.205946e+09\n",
       "std       182.618491   35530.987199       1.042529  2.162610e+08\n",
       "min         1.000000       1.000000       0.500000  8.281246e+08\n",
       "25%       177.000000    1199.000000       3.000000  1.019124e+09\n",
       "50%       325.000000    2991.000000       3.500000  1.186087e+09\n",
       "75%       477.000000    8122.000000       4.000000  1.435994e+09\n",
       "max       610.000000  193609.000000       5.000000  1.537799e+09"
      ],
      "text/html": "<div>\n<style scoped>\n    .dataframe tbody tr th:only-of-type {\n        vertical-align: middle;\n    }\n\n    .dataframe tbody tr th {\n        vertical-align: top;\n    }\n\n    .dataframe thead th {\n        text-align: right;\n    }\n</style>\n<table border=\"1\" class=\"dataframe\">\n  <thead>\n    <tr style=\"text-align: right;\">\n      <th></th>\n      <th>usuarioID</th>\n      <th>filmeId</th>\n      <th>nota</th>\n      <th>momento</th>\n    </tr>\n  </thead>\n  <tbody>\n    <tr>\n      <th>count</th>\n      <td>100836.000000</td>\n      <td>100836.000000</td>\n      <td>100836.000000</td>\n      <td>1.008360e+05</td>\n    </tr>\n    <tr>\n      <th>mean</th>\n      <td>326.127564</td>\n      <td>19435.295718</td>\n      <td>3.501557</td>\n      <td>1.205946e+09</td>\n    </tr>\n    <tr>\n      <th>std</th>\n      <td>182.618491</td>\n      <td>35530.987199</td>\n      <td>1.042529</td>\n      <td>2.162610e+08</td>\n    </tr>\n    <tr>\n      <th>min</th>\n      <td>1.000000</td>\n      <td>1.000000</td>\n      <td>0.500000</td>\n      <td>8.281246e+08</td>\n    </tr>\n    <tr>\n      <th>25%</th>\n      <td>177.000000</td>\n      <td>1199.000000</td>\n      <td>3.000000</td>\n      <td>1.019124e+09</td>\n    </tr>\n    <tr>\n      <th>50%</th>\n      <td>325.000000</td>\n      <td>2991.000000</td>\n      <td>3.500000</td>\n      <td>1.186087e+09</td>\n    </tr>\n    <tr>\n      <th>75%</th>\n      <td>477.000000</td>\n      <td>8122.000000</td>\n      <td>4.000000</td>\n      <td>1.435994e+09</td>\n    </tr>\n    <tr>\n      <th>max</th>\n      <td>610.000000</td>\n      <td>193609.000000</td>\n      <td>5.000000</td>\n      <td>1.537799e+09</td>\n    </tr>\n  </tbody>\n</table>\n</div>"
     },
     "metadata": {},
     "execution_count": 15
    }
   ],
   "source": [
    "notas.describe()"
   ]
  },
  {
   "source": [
    "## Primeira tentativa de recomendação"
   ],
   "cell_type": "markdown",
   "metadata": {}
  },
  {
   "cell_type": "code",
   "execution_count": 18,
   "metadata": {},
   "outputs": [
    {
     "output_type": "execute_result",
     "data": {
      "text/plain": [
       "356     329\n",
       "318     317\n",
       "296     307\n",
       "593     279\n",
       "2571    278\n",
       "Name: filmeId, dtype: int64"
      ]
     },
     "metadata": {},
     "execution_count": 18
    }
   ],
   "source": [
    "total_de_votos = notas[\"filmeId\"].value_counts()\n",
    "total_de_votos.head()"
   ]
  },
  {
   "cell_type": "code",
   "execution_count": 19,
   "metadata": {},
   "outputs": [
    {
     "output_type": "execute_result",
     "data": {
      "text/plain": [
       "                                     titulo  \\\n",
       "filmeId                                       \n",
       "1                          Toy Story (1995)   \n",
       "2                            Jumanji (1995)   \n",
       "3                   Grumpier Old Men (1995)   \n",
       "4                  Waiting to Exhale (1995)   \n",
       "5        Father of the Bride Part II (1995)   \n",
       "\n",
       "                                             generos  total_de_votos  \n",
       "filmeId                                                               \n",
       "1        Adventure|Animation|Children|Comedy|Fantasy           215.0  \n",
       "2                         Adventure|Children|Fantasy           110.0  \n",
       "3                                     Comedy|Romance            52.0  \n",
       "4                               Comedy|Drama|Romance             7.0  \n",
       "5                                             Comedy            49.0  "
      ],
      "text/html": "<div>\n<style scoped>\n    .dataframe tbody tr th:only-of-type {\n        vertical-align: middle;\n    }\n\n    .dataframe tbody tr th {\n        vertical-align: top;\n    }\n\n    .dataframe thead th {\n        text-align: right;\n    }\n</style>\n<table border=\"1\" class=\"dataframe\">\n  <thead>\n    <tr style=\"text-align: right;\">\n      <th></th>\n      <th>titulo</th>\n      <th>generos</th>\n      <th>total_de_votos</th>\n    </tr>\n    <tr>\n      <th>filmeId</th>\n      <th></th>\n      <th></th>\n      <th></th>\n    </tr>\n  </thead>\n  <tbody>\n    <tr>\n      <th>1</th>\n      <td>Toy Story (1995)</td>\n      <td>Adventure|Animation|Children|Comedy|Fantasy</td>\n      <td>215.0</td>\n    </tr>\n    <tr>\n      <th>2</th>\n      <td>Jumanji (1995)</td>\n      <td>Adventure|Children|Fantasy</td>\n      <td>110.0</td>\n    </tr>\n    <tr>\n      <th>3</th>\n      <td>Grumpier Old Men (1995)</td>\n      <td>Comedy|Romance</td>\n      <td>52.0</td>\n    </tr>\n    <tr>\n      <th>4</th>\n      <td>Waiting to Exhale (1995)</td>\n      <td>Comedy|Drama|Romance</td>\n      <td>7.0</td>\n    </tr>\n    <tr>\n      <th>5</th>\n      <td>Father of the Bride Part II (1995)</td>\n      <td>Comedy</td>\n      <td>49.0</td>\n    </tr>\n  </tbody>\n</table>\n</div>"
     },
     "metadata": {},
     "execution_count": 19
    }
   ],
   "source": [
    "filmes[\"total_de_votos\"] = total_de_votos # fazendo um indice das colunas\n",
    "filmes.head()"
   ]
  },
  {
   "cell_type": "code",
   "execution_count": 20,
   "metadata": {},
   "outputs": [
    {
     "output_type": "execute_result",
     "data": {
      "text/plain": [
       "                                     titulo                      generos  \\\n",
       "filmeId                                                                    \n",
       "356                     Forrest Gump (1994)     Comedy|Drama|Romance|War   \n",
       "318        Shawshank Redemption, The (1994)                  Crime|Drama   \n",
       "296                     Pulp Fiction (1994)  Comedy|Crime|Drama|Thriller   \n",
       "593        Silence of the Lambs, The (1991)        Crime|Horror|Thriller   \n",
       "2571                     Matrix, The (1999)       Action|Sci-Fi|Thriller   \n",
       "...                                     ...                          ...   \n",
       "30892    In the Realms of the Unreal (2004)        Animation|Documentary   \n",
       "32160              Twentieth Century (1934)                       Comedy   \n",
       "32371             Call Northside 777 (1948)        Crime|Drama|Film-Noir   \n",
       "34482          Browning Version, The (1951)                        Drama   \n",
       "85565                    Chalet Girl (2011)               Comedy|Romance   \n",
       "\n",
       "         total_de_votos  \n",
       "filmeId                  \n",
       "356               329.0  \n",
       "318               317.0  \n",
       "296               307.0  \n",
       "593               279.0  \n",
       "2571              278.0  \n",
       "...                 ...  \n",
       "30892               NaN  \n",
       "32160               NaN  \n",
       "32371               NaN  \n",
       "34482               NaN  \n",
       "85565               NaN  \n",
       "\n",
       "[9742 rows x 3 columns]"
      ],
      "text/html": "<div>\n<style scoped>\n    .dataframe tbody tr th:only-of-type {\n        vertical-align: middle;\n    }\n\n    .dataframe tbody tr th {\n        vertical-align: top;\n    }\n\n    .dataframe thead th {\n        text-align: right;\n    }\n</style>\n<table border=\"1\" class=\"dataframe\">\n  <thead>\n    <tr style=\"text-align: right;\">\n      <th></th>\n      <th>titulo</th>\n      <th>generos</th>\n      <th>total_de_votos</th>\n    </tr>\n    <tr>\n      <th>filmeId</th>\n      <th></th>\n      <th></th>\n      <th></th>\n    </tr>\n  </thead>\n  <tbody>\n    <tr>\n      <th>356</th>\n      <td>Forrest Gump (1994)</td>\n      <td>Comedy|Drama|Romance|War</td>\n      <td>329.0</td>\n    </tr>\n    <tr>\n      <th>318</th>\n      <td>Shawshank Redemption, The (1994)</td>\n      <td>Crime|Drama</td>\n      <td>317.0</td>\n    </tr>\n    <tr>\n      <th>296</th>\n      <td>Pulp Fiction (1994)</td>\n      <td>Comedy|Crime|Drama|Thriller</td>\n      <td>307.0</td>\n    </tr>\n    <tr>\n      <th>593</th>\n      <td>Silence of the Lambs, The (1991)</td>\n      <td>Crime|Horror|Thriller</td>\n      <td>279.0</td>\n    </tr>\n    <tr>\n      <th>2571</th>\n      <td>Matrix, The (1999)</td>\n      <td>Action|Sci-Fi|Thriller</td>\n      <td>278.0</td>\n    </tr>\n    <tr>\n      <th>...</th>\n      <td>...</td>\n      <td>...</td>\n      <td>...</td>\n    </tr>\n    <tr>\n      <th>30892</th>\n      <td>In the Realms of the Unreal (2004)</td>\n      <td>Animation|Documentary</td>\n      <td>NaN</td>\n    </tr>\n    <tr>\n      <th>32160</th>\n      <td>Twentieth Century (1934)</td>\n      <td>Comedy</td>\n      <td>NaN</td>\n    </tr>\n    <tr>\n      <th>32371</th>\n      <td>Call Northside 777 (1948)</td>\n      <td>Crime|Drama|Film-Noir</td>\n      <td>NaN</td>\n    </tr>\n    <tr>\n      <th>34482</th>\n      <td>Browning Version, The (1951)</td>\n      <td>Drama</td>\n      <td>NaN</td>\n    </tr>\n    <tr>\n      <th>85565</th>\n      <td>Chalet Girl (2011)</td>\n      <td>Comedy|Romance</td>\n      <td>NaN</td>\n    </tr>\n  </tbody>\n</table>\n<p>9742 rows × 3 columns</p>\n</div>"
     },
     "metadata": {},
     "execution_count": 20
    }
   ],
   "source": [
    "filmes.sort_values(\"total_de_votos\", ascending = False) #tabela feita em pandas ela é do maior pro menor, ascending por padrão é True, ultilando False trocas a ordem da tabela."
   ]
  },
  {
   "source": [
    "## **Total de votos, média e possíveis dificuldades de Heuríticas simples**"
   ],
   "cell_type": "markdown",
   "metadata": {}
  },
  {
   "cell_type": "code",
   "execution_count": 21,
   "metadata": {},
   "outputs": [
    {
     "output_type": "execute_result",
     "data": {
      "text/plain": [
       "                                            titulo  \\\n",
       "filmeId                                              \n",
       "356                            Forrest Gump (1994)   \n",
       "318               Shawshank Redemption, The (1994)   \n",
       "296                            Pulp Fiction (1994)   \n",
       "593               Silence of the Lambs, The (1991)   \n",
       "2571                            Matrix, The (1999)   \n",
       "260      Star Wars: Episode IV - A New Hope (1977)   \n",
       "480                           Jurassic Park (1993)   \n",
       "110                              Braveheart (1995)   \n",
       "589              Terminator 2: Judgment Day (1991)   \n",
       "527                        Schindler's List (1993)   \n",
       "\n",
       "                                  generos  total_de_votos  \n",
       "filmeId                                                    \n",
       "356              Comedy|Drama|Romance|War           329.0  \n",
       "318                           Crime|Drama           317.0  \n",
       "296           Comedy|Crime|Drama|Thriller           307.0  \n",
       "593                 Crime|Horror|Thriller           279.0  \n",
       "2571               Action|Sci-Fi|Thriller           278.0  \n",
       "260               Action|Adventure|Sci-Fi           251.0  \n",
       "480      Action|Adventure|Sci-Fi|Thriller           238.0  \n",
       "110                      Action|Drama|War           237.0  \n",
       "589                         Action|Sci-Fi           224.0  \n",
       "527                             Drama|War           220.0  "
      ],
      "text/html": "<div>\n<style scoped>\n    .dataframe tbody tr th:only-of-type {\n        vertical-align: middle;\n    }\n\n    .dataframe tbody tr th {\n        vertical-align: top;\n    }\n\n    .dataframe thead th {\n        text-align: right;\n    }\n</style>\n<table border=\"1\" class=\"dataframe\">\n  <thead>\n    <tr style=\"text-align: right;\">\n      <th></th>\n      <th>titulo</th>\n      <th>generos</th>\n      <th>total_de_votos</th>\n    </tr>\n    <tr>\n      <th>filmeId</th>\n      <th></th>\n      <th></th>\n      <th></th>\n    </tr>\n  </thead>\n  <tbody>\n    <tr>\n      <th>356</th>\n      <td>Forrest Gump (1994)</td>\n      <td>Comedy|Drama|Romance|War</td>\n      <td>329.0</td>\n    </tr>\n    <tr>\n      <th>318</th>\n      <td>Shawshank Redemption, The (1994)</td>\n      <td>Crime|Drama</td>\n      <td>317.0</td>\n    </tr>\n    <tr>\n      <th>296</th>\n      <td>Pulp Fiction (1994)</td>\n      <td>Comedy|Crime|Drama|Thriller</td>\n      <td>307.0</td>\n    </tr>\n    <tr>\n      <th>593</th>\n      <td>Silence of the Lambs, The (1991)</td>\n      <td>Crime|Horror|Thriller</td>\n      <td>279.0</td>\n    </tr>\n    <tr>\n      <th>2571</th>\n      <td>Matrix, The (1999)</td>\n      <td>Action|Sci-Fi|Thriller</td>\n      <td>278.0</td>\n    </tr>\n    <tr>\n      <th>260</th>\n      <td>Star Wars: Episode IV - A New Hope (1977)</td>\n      <td>Action|Adventure|Sci-Fi</td>\n      <td>251.0</td>\n    </tr>\n    <tr>\n      <th>480</th>\n      <td>Jurassic Park (1993)</td>\n      <td>Action|Adventure|Sci-Fi|Thriller</td>\n      <td>238.0</td>\n    </tr>\n    <tr>\n      <th>110</th>\n      <td>Braveheart (1995)</td>\n      <td>Action|Drama|War</td>\n      <td>237.0</td>\n    </tr>\n    <tr>\n      <th>589</th>\n      <td>Terminator 2: Judgment Day (1991)</td>\n      <td>Action|Sci-Fi</td>\n      <td>224.0</td>\n    </tr>\n    <tr>\n      <th>527</th>\n      <td>Schindler's List (1993)</td>\n      <td>Drama|War</td>\n      <td>220.0</td>\n    </tr>\n  </tbody>\n</table>\n</div>"
     },
     "metadata": {},
     "execution_count": 21
    }
   ],
   "source": [
    "filmes.sort_values(\"total_de_votos\", ascending = False).head(10)"
   ]
  },
  {
   "cell_type": "code",
   "execution_count": 25,
   "metadata": {},
   "outputs": [
    {
     "output_type": "execute_result",
     "data": {
      "text/plain": [
       "filmeId\n",
       "1    3.920930\n",
       "2    3.431818\n",
       "3    3.259615\n",
       "4    2.357143\n",
       "5    3.071429\n",
       "Name: nota, dtype: float64"
      ]
     },
     "metadata": {},
     "execution_count": 25
    }
   ],
   "source": [
    "notas_media = notas.groupby(\"filmeId\").mean()[\"nota\"]\n",
    "notas_media.head()"
   ]
  },
  {
   "cell_type": "code",
   "execution_count": 26,
   "metadata": {},
   "outputs": [
    {
     "output_type": "execute_result",
     "data": {
      "text/plain": [
       "                                            titulo  \\\n",
       "filmeId                                              \n",
       "356                            Forrest Gump (1994)   \n",
       "318               Shawshank Redemption, The (1994)   \n",
       "296                            Pulp Fiction (1994)   \n",
       "593               Silence of the Lambs, The (1991)   \n",
       "2571                            Matrix, The (1999)   \n",
       "260      Star Wars: Episode IV - A New Hope (1977)   \n",
       "480                           Jurassic Park (1993)   \n",
       "110                              Braveheart (1995)   \n",
       "589              Terminator 2: Judgment Day (1991)   \n",
       "527                        Schindler's List (1993)   \n",
       "\n",
       "                                  generos  total_de_votos  nota_media  \n",
       "filmeId                                                                \n",
       "356              Comedy|Drama|Romance|War           329.0    4.164134  \n",
       "318                           Crime|Drama           317.0    4.429022  \n",
       "296           Comedy|Crime|Drama|Thriller           307.0    4.197068  \n",
       "593                 Crime|Horror|Thriller           279.0    4.161290  \n",
       "2571               Action|Sci-Fi|Thriller           278.0    4.192446  \n",
       "260               Action|Adventure|Sci-Fi           251.0    4.231076  \n",
       "480      Action|Adventure|Sci-Fi|Thriller           238.0    3.750000  \n",
       "110                      Action|Drama|War           237.0    4.031646  \n",
       "589                         Action|Sci-Fi           224.0    3.970982  \n",
       "527                             Drama|War           220.0    4.225000  "
      ],
      "text/html": "<div>\n<style scoped>\n    .dataframe tbody tr th:only-of-type {\n        vertical-align: middle;\n    }\n\n    .dataframe tbody tr th {\n        vertical-align: top;\n    }\n\n    .dataframe thead th {\n        text-align: right;\n    }\n</style>\n<table border=\"1\" class=\"dataframe\">\n  <thead>\n    <tr style=\"text-align: right;\">\n      <th></th>\n      <th>titulo</th>\n      <th>generos</th>\n      <th>total_de_votos</th>\n      <th>nota_media</th>\n    </tr>\n    <tr>\n      <th>filmeId</th>\n      <th></th>\n      <th></th>\n      <th></th>\n      <th></th>\n    </tr>\n  </thead>\n  <tbody>\n    <tr>\n      <th>356</th>\n      <td>Forrest Gump (1994)</td>\n      <td>Comedy|Drama|Romance|War</td>\n      <td>329.0</td>\n      <td>4.164134</td>\n    </tr>\n    <tr>\n      <th>318</th>\n      <td>Shawshank Redemption, The (1994)</td>\n      <td>Crime|Drama</td>\n      <td>317.0</td>\n      <td>4.429022</td>\n    </tr>\n    <tr>\n      <th>296</th>\n      <td>Pulp Fiction (1994)</td>\n      <td>Comedy|Crime|Drama|Thriller</td>\n      <td>307.0</td>\n      <td>4.197068</td>\n    </tr>\n    <tr>\n      <th>593</th>\n      <td>Silence of the Lambs, The (1991)</td>\n      <td>Crime|Horror|Thriller</td>\n      <td>279.0</td>\n      <td>4.161290</td>\n    </tr>\n    <tr>\n      <th>2571</th>\n      <td>Matrix, The (1999)</td>\n      <td>Action|Sci-Fi|Thriller</td>\n      <td>278.0</td>\n      <td>4.192446</td>\n    </tr>\n    <tr>\n      <th>260</th>\n      <td>Star Wars: Episode IV - A New Hope (1977)</td>\n      <td>Action|Adventure|Sci-Fi</td>\n      <td>251.0</td>\n      <td>4.231076</td>\n    </tr>\n    <tr>\n      <th>480</th>\n      <td>Jurassic Park (1993)</td>\n      <td>Action|Adventure|Sci-Fi|Thriller</td>\n      <td>238.0</td>\n      <td>3.750000</td>\n    </tr>\n    <tr>\n      <th>110</th>\n      <td>Braveheart (1995)</td>\n      <td>Action|Drama|War</td>\n      <td>237.0</td>\n      <td>4.031646</td>\n    </tr>\n    <tr>\n      <th>589</th>\n      <td>Terminator 2: Judgment Day (1991)</td>\n      <td>Action|Sci-Fi</td>\n      <td>224.0</td>\n      <td>3.970982</td>\n    </tr>\n    <tr>\n      <th>527</th>\n      <td>Schindler's List (1993)</td>\n      <td>Drama|War</td>\n      <td>220.0</td>\n      <td>4.225000</td>\n    </tr>\n  </tbody>\n</table>\n</div>"
     },
     "metadata": {},
     "execution_count": 26
    }
   ],
   "source": [
    "filmes[\"nota_media\"] = notas_media\n",
    "filmes.sort_values(\"total_de_votos\", ascending = False).head(10)"
   ]
  },
  {
   "cell_type": "code",
   "execution_count": 27,
   "metadata": {},
   "outputs": [
    {
     "output_type": "execute_result",
     "data": {
      "text/plain": [
       "                                            titulo                   generos  \\\n",
       "filmeId                                                                        \n",
       "88448        Paper Birds (Pájaros de papel) (2010)              Comedy|Drama   \n",
       "100556                  Act of Killing, The (2012)               Documentary   \n",
       "143031                             Jump In! (2007)      Comedy|Drama|Romance   \n",
       "143511                                Human (2015)               Documentary   \n",
       "143559                         L.A. Slasher (2015)      Comedy|Crime|Fantasy   \n",
       "6201                              Lady Jane (1986)             Drama|Romance   \n",
       "102217              Bill Hicks: Revelations (1993)                    Comedy   \n",
       "102084                Justice League: Doom (2012)   Action|Animation|Fantasy   \n",
       "6192     Open Hearts (Elsker dig for evigt) (2002)                   Romance   \n",
       "145994                      Formula of Love (1984)                    Comedy   \n",
       "\n",
       "         total_de_votos  nota_media  \n",
       "filmeId                              \n",
       "88448               1.0         5.0  \n",
       "100556              1.0         5.0  \n",
       "143031              1.0         5.0  \n",
       "143511              1.0         5.0  \n",
       "143559              1.0         5.0  \n",
       "6201                1.0         5.0  \n",
       "102217              1.0         5.0  \n",
       "102084              1.0         5.0  \n",
       "6192                1.0         5.0  \n",
       "145994              1.0         5.0  "
      ],
      "text/html": "<div>\n<style scoped>\n    .dataframe tbody tr th:only-of-type {\n        vertical-align: middle;\n    }\n\n    .dataframe tbody tr th {\n        vertical-align: top;\n    }\n\n    .dataframe thead th {\n        text-align: right;\n    }\n</style>\n<table border=\"1\" class=\"dataframe\">\n  <thead>\n    <tr style=\"text-align: right;\">\n      <th></th>\n      <th>titulo</th>\n      <th>generos</th>\n      <th>total_de_votos</th>\n      <th>nota_media</th>\n    </tr>\n    <tr>\n      <th>filmeId</th>\n      <th></th>\n      <th></th>\n      <th></th>\n      <th></th>\n    </tr>\n  </thead>\n  <tbody>\n    <tr>\n      <th>88448</th>\n      <td>Paper Birds (Pájaros de papel) (2010)</td>\n      <td>Comedy|Drama</td>\n      <td>1.0</td>\n      <td>5.0</td>\n    </tr>\n    <tr>\n      <th>100556</th>\n      <td>Act of Killing, The (2012)</td>\n      <td>Documentary</td>\n      <td>1.0</td>\n      <td>5.0</td>\n    </tr>\n    <tr>\n      <th>143031</th>\n      <td>Jump In! (2007)</td>\n      <td>Comedy|Drama|Romance</td>\n      <td>1.0</td>\n      <td>5.0</td>\n    </tr>\n    <tr>\n      <th>143511</th>\n      <td>Human (2015)</td>\n      <td>Documentary</td>\n      <td>1.0</td>\n      <td>5.0</td>\n    </tr>\n    <tr>\n      <th>143559</th>\n      <td>L.A. Slasher (2015)</td>\n      <td>Comedy|Crime|Fantasy</td>\n      <td>1.0</td>\n      <td>5.0</td>\n    </tr>\n    <tr>\n      <th>6201</th>\n      <td>Lady Jane (1986)</td>\n      <td>Drama|Romance</td>\n      <td>1.0</td>\n      <td>5.0</td>\n    </tr>\n    <tr>\n      <th>102217</th>\n      <td>Bill Hicks: Revelations (1993)</td>\n      <td>Comedy</td>\n      <td>1.0</td>\n      <td>5.0</td>\n    </tr>\n    <tr>\n      <th>102084</th>\n      <td>Justice League: Doom (2012)</td>\n      <td>Action|Animation|Fantasy</td>\n      <td>1.0</td>\n      <td>5.0</td>\n    </tr>\n    <tr>\n      <th>6192</th>\n      <td>Open Hearts (Elsker dig for evigt) (2002)</td>\n      <td>Romance</td>\n      <td>1.0</td>\n      <td>5.0</td>\n    </tr>\n    <tr>\n      <th>145994</th>\n      <td>Formula of Love (1984)</td>\n      <td>Comedy</td>\n      <td>1.0</td>\n      <td>5.0</td>\n    </tr>\n  </tbody>\n</table>\n</div>"
     },
     "metadata": {},
     "execution_count": 27
    }
   ],
   "source": [
    "filmes.sort_values(\"nota_media\", ascending = False).head(10)"
   ]
  },
  {
   "cell_type": "code",
   "execution_count": 28,
   "metadata": {},
   "outputs": [
    {
     "output_type": "execute_result",
     "data": {
      "text/plain": [
       "                                            titulo  \\\n",
       "filmeId                                              \n",
       "356                            Forrest Gump (1994)   \n",
       "318               Shawshank Redemption, The (1994)   \n",
       "296                            Pulp Fiction (1994)   \n",
       "593               Silence of the Lambs, The (1991)   \n",
       "2571                            Matrix, The (1999)   \n",
       "260      Star Wars: Episode IV - A New Hope (1977)   \n",
       "480                           Jurassic Park (1993)   \n",
       "110                              Braveheart (1995)   \n",
       "589              Terminator 2: Judgment Day (1991)   \n",
       "527                        Schindler's List (1993)   \n",
       "\n",
       "                                  generos  total_de_votos  nota_media  \n",
       "filmeId                                                                \n",
       "356              Comedy|Drama|Romance|War           329.0    4.164134  \n",
       "318                           Crime|Drama           317.0    4.429022  \n",
       "296           Comedy|Crime|Drama|Thriller           307.0    4.197068  \n",
       "593                 Crime|Horror|Thriller           279.0    4.161290  \n",
       "2571               Action|Sci-Fi|Thriller           278.0    4.192446  \n",
       "260               Action|Adventure|Sci-Fi           251.0    4.231076  \n",
       "480      Action|Adventure|Sci-Fi|Thriller           238.0    3.750000  \n",
       "110                      Action|Drama|War           237.0    4.031646  \n",
       "589                         Action|Sci-Fi           224.0    3.970982  \n",
       "527                             Drama|War           220.0    4.225000  "
      ],
      "text/html": "<div>\n<style scoped>\n    .dataframe tbody tr th:only-of-type {\n        vertical-align: middle;\n    }\n\n    .dataframe tbody tr th {\n        vertical-align: top;\n    }\n\n    .dataframe thead th {\n        text-align: right;\n    }\n</style>\n<table border=\"1\" class=\"dataframe\">\n  <thead>\n    <tr style=\"text-align: right;\">\n      <th></th>\n      <th>titulo</th>\n      <th>generos</th>\n      <th>total_de_votos</th>\n      <th>nota_media</th>\n    </tr>\n    <tr>\n      <th>filmeId</th>\n      <th></th>\n      <th></th>\n      <th></th>\n      <th></th>\n    </tr>\n  </thead>\n  <tbody>\n    <tr>\n      <th>356</th>\n      <td>Forrest Gump (1994)</td>\n      <td>Comedy|Drama|Romance|War</td>\n      <td>329.0</td>\n      <td>4.164134</td>\n    </tr>\n    <tr>\n      <th>318</th>\n      <td>Shawshank Redemption, The (1994)</td>\n      <td>Crime|Drama</td>\n      <td>317.0</td>\n      <td>4.429022</td>\n    </tr>\n    <tr>\n      <th>296</th>\n      <td>Pulp Fiction (1994)</td>\n      <td>Comedy|Crime|Drama|Thriller</td>\n      <td>307.0</td>\n      <td>4.197068</td>\n    </tr>\n    <tr>\n      <th>593</th>\n      <td>Silence of the Lambs, The (1991)</td>\n      <td>Crime|Horror|Thriller</td>\n      <td>279.0</td>\n      <td>4.161290</td>\n    </tr>\n    <tr>\n      <th>2571</th>\n      <td>Matrix, The (1999)</td>\n      <td>Action|Sci-Fi|Thriller</td>\n      <td>278.0</td>\n      <td>4.192446</td>\n    </tr>\n    <tr>\n      <th>260</th>\n      <td>Star Wars: Episode IV - A New Hope (1977)</td>\n      <td>Action|Adventure|Sci-Fi</td>\n      <td>251.0</td>\n      <td>4.231076</td>\n    </tr>\n    <tr>\n      <th>480</th>\n      <td>Jurassic Park (1993)</td>\n      <td>Action|Adventure|Sci-Fi|Thriller</td>\n      <td>238.0</td>\n      <td>3.750000</td>\n    </tr>\n    <tr>\n      <th>110</th>\n      <td>Braveheart (1995)</td>\n      <td>Action|Drama|War</td>\n      <td>237.0</td>\n      <td>4.031646</td>\n    </tr>\n    <tr>\n      <th>589</th>\n      <td>Terminator 2: Judgment Day (1991)</td>\n      <td>Action|Sci-Fi</td>\n      <td>224.0</td>\n      <td>3.970982</td>\n    </tr>\n    <tr>\n      <th>527</th>\n      <td>Schindler's List (1993)</td>\n      <td>Drama|War</td>\n      <td>220.0</td>\n      <td>4.225000</td>\n    </tr>\n  </tbody>\n</table>\n</div>"
     },
     "metadata": {},
     "execution_count": 28
    }
   ],
   "source": [
    "filmes.query(\"total_de_votos >= 10\").sort_values(\"total_de_votos\", ascending = False).head(10)"
   ]
  },
  {
   "cell_type": "code",
   "execution_count": 40,
   "metadata": {},
   "outputs": [
    {
     "output_type": "execute_result",
     "data": {
      "text/plain": [
       "                                        titulo           generos  \\\n",
       "filmeId                                                            \n",
       "1041                     Secrets & Lies (1996)             Drama   \n",
       "3451       Guess Who's Coming to Dinner (1967)             Drama   \n",
       "1178                     Paths of Glory (1957)         Drama|War   \n",
       "1104          Streetcar Named Desire, A (1951)             Drama   \n",
       "2360          Celebration, The (Festen) (1998)             Drama   \n",
       "1217                                Ran (1985)         Drama|War   \n",
       "318           Shawshank Redemption, The (1994)       Crime|Drama   \n",
       "951                     His Girl Friday (1940)    Comedy|Romance   \n",
       "1927     All Quiet on the Western Front (1930)  Action|Drama|War   \n",
       "3468                       Hustler, The (1961)             Drama   \n",
       "\n",
       "         total_de_votos  nota_media  \n",
       "filmeId                              \n",
       "1041               11.0    4.590909  \n",
       "3451               11.0    4.545455  \n",
       "1178               12.0    4.541667  \n",
       "1104               20.0    4.475000  \n",
       "2360               12.0    4.458333  \n",
       "1217               15.0    4.433333  \n",
       "318               317.0    4.429022  \n",
       "951                14.0    4.392857  \n",
       "1927               10.0    4.350000  \n",
       "3468               18.0    4.333333  "
      ],
      "text/html": "<div>\n<style scoped>\n    .dataframe tbody tr th:only-of-type {\n        vertical-align: middle;\n    }\n\n    .dataframe tbody tr th {\n        vertical-align: top;\n    }\n\n    .dataframe thead th {\n        text-align: right;\n    }\n</style>\n<table border=\"1\" class=\"dataframe\">\n  <thead>\n    <tr style=\"text-align: right;\">\n      <th></th>\n      <th>titulo</th>\n      <th>generos</th>\n      <th>total_de_votos</th>\n      <th>nota_media</th>\n    </tr>\n    <tr>\n      <th>filmeId</th>\n      <th></th>\n      <th></th>\n      <th></th>\n      <th></th>\n    </tr>\n  </thead>\n  <tbody>\n    <tr>\n      <th>1041</th>\n      <td>Secrets &amp; Lies (1996)</td>\n      <td>Drama</td>\n      <td>11.0</td>\n      <td>4.590909</td>\n    </tr>\n    <tr>\n      <th>3451</th>\n      <td>Guess Who's Coming to Dinner (1967)</td>\n      <td>Drama</td>\n      <td>11.0</td>\n      <td>4.545455</td>\n    </tr>\n    <tr>\n      <th>1178</th>\n      <td>Paths of Glory (1957)</td>\n      <td>Drama|War</td>\n      <td>12.0</td>\n      <td>4.541667</td>\n    </tr>\n    <tr>\n      <th>1104</th>\n      <td>Streetcar Named Desire, A (1951)</td>\n      <td>Drama</td>\n      <td>20.0</td>\n      <td>4.475000</td>\n    </tr>\n    <tr>\n      <th>2360</th>\n      <td>Celebration, The (Festen) (1998)</td>\n      <td>Drama</td>\n      <td>12.0</td>\n      <td>4.458333</td>\n    </tr>\n    <tr>\n      <th>1217</th>\n      <td>Ran (1985)</td>\n      <td>Drama|War</td>\n      <td>15.0</td>\n      <td>4.433333</td>\n    </tr>\n    <tr>\n      <th>318</th>\n      <td>Shawshank Redemption, The (1994)</td>\n      <td>Crime|Drama</td>\n      <td>317.0</td>\n      <td>4.429022</td>\n    </tr>\n    <tr>\n      <th>951</th>\n      <td>His Girl Friday (1940)</td>\n      <td>Comedy|Romance</td>\n      <td>14.0</td>\n      <td>4.392857</td>\n    </tr>\n    <tr>\n      <th>1927</th>\n      <td>All Quiet on the Western Front (1930)</td>\n      <td>Action|Drama|War</td>\n      <td>10.0</td>\n      <td>4.350000</td>\n    </tr>\n    <tr>\n      <th>3468</th>\n      <td>Hustler, The (1961)</td>\n      <td>Drama</td>\n      <td>18.0</td>\n      <td>4.333333</td>\n    </tr>\n  </tbody>\n</table>\n</div>"
     },
     "metadata": {},
     "execution_count": 40
    }
   ],
   "source": [
    "filmes_com_mais_de_50_votos = filmes.query(\"total_de_votos >= 10\")\n",
    "filmes_com_mais_de_50_votos.sort_values(\"nota_media\", ascending = False).head(10)"
   ]
  },
  {
   "source": [
    "O que aprendemos nesta aula:\n",
    "\n",
    "* Fazer a leitura de arquivos CSV com pandas;\n",
    "* Renomear as colunas;\n",
    "* Utilizar a função describe para ver as informações numéricas;\n",
    "* Utilizar o value_counts para contar a frequência;\n",
    "* Mudar o índice com a função set_index ();\n",
    "* Usar a função loc[] para localizar valores;\n",
    "* Fazer uma inclusão de coluna;\n",
    "* Ordernar pela quantidade com a função sort_values(); Deixar a ordenação de maneira decrescente com o parâmetro\n",
    "* ascending = False ;\n",
    "* Agrupar os dados com a função groupby( ); Fazer uma query;"
   ],
   "cell_type": "markdown",
   "metadata": {}
  },
  {
   "source": [
    "## **Recomendação beseada em similaridade de genero**"
   ],
   "cell_type": "markdown",
   "metadata": {}
  },
  {
   "cell_type": "code",
   "execution_count": 41,
   "metadata": {},
   "outputs": [
    {
     "output_type": "execute_result",
     "data": {
      "text/plain": [
       "                                        titulo  \\\n",
       "filmeId                                          \n",
       "1                             Toy Story (1995)   \n",
       "21                           Get Shorty (1995)   \n",
       "19       Ace Ventura: When Nature Calls (1995)   \n",
       "10                            GoldenEye (1995)   \n",
       "11              American President, The (1995)   \n",
       "7                               Sabrina (1995)   \n",
       "2                               Jumanji (1995)   \n",
       "\n",
       "                                             generos  total_de_votos  \\\n",
       "filmeId                                                                \n",
       "1        Adventure|Animation|Children|Comedy|Fantasy           215.0   \n",
       "21                             Comedy|Crime|Thriller            89.0   \n",
       "19                                            Comedy            88.0   \n",
       "10                         Action|Adventure|Thriller           132.0   \n",
       "11                              Comedy|Drama|Romance            70.0   \n",
       "7                                     Comedy|Romance            54.0   \n",
       "2                         Adventure|Children|Fantasy           110.0   \n",
       "\n",
       "         nota_media  \n",
       "filmeId              \n",
       "1          3.920930  \n",
       "21         3.494382  \n",
       "19         2.727273  \n",
       "10         3.496212  \n",
       "11         3.671429  \n",
       "7          3.185185  \n",
       "2          3.431818  "
      ],
      "text/html": "<div>\n<style scoped>\n    .dataframe tbody tr th:only-of-type {\n        vertical-align: middle;\n    }\n\n    .dataframe tbody tr th {\n        vertical-align: top;\n    }\n\n    .dataframe thead th {\n        text-align: right;\n    }\n</style>\n<table border=\"1\" class=\"dataframe\">\n  <thead>\n    <tr style=\"text-align: right;\">\n      <th></th>\n      <th>titulo</th>\n      <th>generos</th>\n      <th>total_de_votos</th>\n      <th>nota_media</th>\n    </tr>\n    <tr>\n      <th>filmeId</th>\n      <th></th>\n      <th></th>\n      <th></th>\n      <th></th>\n    </tr>\n  </thead>\n  <tbody>\n    <tr>\n      <th>1</th>\n      <td>Toy Story (1995)</td>\n      <td>Adventure|Animation|Children|Comedy|Fantasy</td>\n      <td>215.0</td>\n      <td>3.920930</td>\n    </tr>\n    <tr>\n      <th>21</th>\n      <td>Get Shorty (1995)</td>\n      <td>Comedy|Crime|Thriller</td>\n      <td>89.0</td>\n      <td>3.494382</td>\n    </tr>\n    <tr>\n      <th>19</th>\n      <td>Ace Ventura: When Nature Calls (1995)</td>\n      <td>Comedy</td>\n      <td>88.0</td>\n      <td>2.727273</td>\n    </tr>\n    <tr>\n      <th>10</th>\n      <td>GoldenEye (1995)</td>\n      <td>Action|Adventure|Thriller</td>\n      <td>132.0</td>\n      <td>3.496212</td>\n    </tr>\n    <tr>\n      <th>11</th>\n      <td>American President, The (1995)</td>\n      <td>Comedy|Drama|Romance</td>\n      <td>70.0</td>\n      <td>3.671429</td>\n    </tr>\n    <tr>\n      <th>7</th>\n      <td>Sabrina (1995)</td>\n      <td>Comedy|Romance</td>\n      <td>54.0</td>\n      <td>3.185185</td>\n    </tr>\n    <tr>\n      <th>2</th>\n      <td>Jumanji (1995)</td>\n      <td>Adventure|Children|Fantasy</td>\n      <td>110.0</td>\n      <td>3.431818</td>\n    </tr>\n  </tbody>\n</table>\n</div>"
     },
     "metadata": {},
     "execution_count": 41
    }
   ],
   "source": [
    "eu_assisti = [1, 21, 19, 10, 11, 7, 2]\n",
    "filmes.loc[eu_assisti]"
   ]
  },
  {
   "cell_type": "code",
   "execution_count": 42,
   "metadata": {},
   "outputs": [
    {
     "output_type": "execute_result",
     "data": {
      "text/plain": [
       "                                                    titulo  \\\n",
       "filmeId                                                      \n",
       "2                                           Jumanji (1995)   \n",
       "60                      Indian in the Cupboard, The (1995)   \n",
       "126                      NeverEnding Story III, The (1994)   \n",
       "1009                       Escape to Witch Mountain (1975)   \n",
       "2043             Darby O'Gill and the Little People (1959)   \n",
       "2093                                   Return to Oz (1985)   \n",
       "2161                         NeverEnding Story, The (1984)   \n",
       "2162     NeverEnding Story II: The Next Chapter, The (1...   \n",
       "2399                         Santa Claus: The Movie (1985)   \n",
       "4896     Harry Potter and the Sorcerer's Stone (a.k.a. ...   \n",
       "41566    Chronicles of Narnia: The Lion, the Witch and ...   \n",
       "50601                          Bridge to Terabithia (2007)   \n",
       "56171                           Golden Compass, The (2007)   \n",
       "56915          Water Horse: Legend of the Deep, The (2007)   \n",
       "59501     Chronicles of Narnia: Prince Caspian, The (2008)   \n",
       "80748                           Alice in Wonderland (1933)   \n",
       "82169    Chronicles of Narnia: The Voyage of the Dawn T...   \n",
       "104074               Percy Jackson: Sea of Monsters (2013)   \n",
       "119655                                  Seventh Son (2014)   \n",
       "126142                  The Cave of the Golden Rose (1991)   \n",
       "130450                                          Pan (2015)   \n",
       "158813              Alice Through the Looking Glass (2016)   \n",
       "160573                                Pete's Dragon (2016)   \n",
       "173873                           Gulliver's Travels (1996)   \n",
       "\n",
       "                            generos  total_de_votos  nota_media  \n",
       "filmeId                                                          \n",
       "2        Adventure|Children|Fantasy           110.0    3.431818  \n",
       "60       Adventure|Children|Fantasy            34.0    3.235294  \n",
       "126      Adventure|Children|Fantasy             7.0    2.000000  \n",
       "1009     Adventure|Children|Fantasy             9.0    3.055556  \n",
       "2043     Adventure|Children|Fantasy             4.0    2.750000  \n",
       "2093     Adventure|Children|Fantasy             6.0    3.000000  \n",
       "2161     Adventure|Children|Fantasy            43.0    3.581395  \n",
       "2162     Adventure|Children|Fantasy             8.0    2.500000  \n",
       "2399     Adventure|Children|Fantasy             4.0    2.250000  \n",
       "4896     Adventure|Children|Fantasy           107.0    3.761682  \n",
       "41566    Adventure|Children|Fantasy            62.0    3.443548  \n",
       "50601    Adventure|Children|Fantasy             9.0    2.777778  \n",
       "56171    Adventure|Children|Fantasy            18.0    3.111111  \n",
       "56915    Adventure|Children|Fantasy             1.0    4.000000  \n",
       "59501    Adventure|Children|Fantasy            12.0    3.541667  \n",
       "80748    Adventure|Children|Fantasy             1.0    4.000000  \n",
       "82169    Adventure|Children|Fantasy             7.0    3.857143  \n",
       "104074   Adventure|Children|Fantasy             2.0    1.750000  \n",
       "119655   Adventure|Children|Fantasy             2.0    2.250000  \n",
       "126142   Adventure|Children|Fantasy             1.0    4.000000  \n",
       "130450   Adventure|Children|Fantasy             3.0    2.500000  \n",
       "158813   Adventure|Children|Fantasy             4.0    2.000000  \n",
       "160573   Adventure|Children|Fantasy             1.0    3.000000  \n",
       "173873   Adventure|Children|Fantasy             1.0    2.000000  "
      ],
      "text/html": "<div>\n<style scoped>\n    .dataframe tbody tr th:only-of-type {\n        vertical-align: middle;\n    }\n\n    .dataframe tbody tr th {\n        vertical-align: top;\n    }\n\n    .dataframe thead th {\n        text-align: right;\n    }\n</style>\n<table border=\"1\" class=\"dataframe\">\n  <thead>\n    <tr style=\"text-align: right;\">\n      <th></th>\n      <th>titulo</th>\n      <th>generos</th>\n      <th>total_de_votos</th>\n      <th>nota_media</th>\n    </tr>\n    <tr>\n      <th>filmeId</th>\n      <th></th>\n      <th></th>\n      <th></th>\n      <th></th>\n    </tr>\n  </thead>\n  <tbody>\n    <tr>\n      <th>2</th>\n      <td>Jumanji (1995)</td>\n      <td>Adventure|Children|Fantasy</td>\n      <td>110.0</td>\n      <td>3.431818</td>\n    </tr>\n    <tr>\n      <th>60</th>\n      <td>Indian in the Cupboard, The (1995)</td>\n      <td>Adventure|Children|Fantasy</td>\n      <td>34.0</td>\n      <td>3.235294</td>\n    </tr>\n    <tr>\n      <th>126</th>\n      <td>NeverEnding Story III, The (1994)</td>\n      <td>Adventure|Children|Fantasy</td>\n      <td>7.0</td>\n      <td>2.000000</td>\n    </tr>\n    <tr>\n      <th>1009</th>\n      <td>Escape to Witch Mountain (1975)</td>\n      <td>Adventure|Children|Fantasy</td>\n      <td>9.0</td>\n      <td>3.055556</td>\n    </tr>\n    <tr>\n      <th>2043</th>\n      <td>Darby O'Gill and the Little People (1959)</td>\n      <td>Adventure|Children|Fantasy</td>\n      <td>4.0</td>\n      <td>2.750000</td>\n    </tr>\n    <tr>\n      <th>2093</th>\n      <td>Return to Oz (1985)</td>\n      <td>Adventure|Children|Fantasy</td>\n      <td>6.0</td>\n      <td>3.000000</td>\n    </tr>\n    <tr>\n      <th>2161</th>\n      <td>NeverEnding Story, The (1984)</td>\n      <td>Adventure|Children|Fantasy</td>\n      <td>43.0</td>\n      <td>3.581395</td>\n    </tr>\n    <tr>\n      <th>2162</th>\n      <td>NeverEnding Story II: The Next Chapter, The (1...</td>\n      <td>Adventure|Children|Fantasy</td>\n      <td>8.0</td>\n      <td>2.500000</td>\n    </tr>\n    <tr>\n      <th>2399</th>\n      <td>Santa Claus: The Movie (1985)</td>\n      <td>Adventure|Children|Fantasy</td>\n      <td>4.0</td>\n      <td>2.250000</td>\n    </tr>\n    <tr>\n      <th>4896</th>\n      <td>Harry Potter and the Sorcerer's Stone (a.k.a. ...</td>\n      <td>Adventure|Children|Fantasy</td>\n      <td>107.0</td>\n      <td>3.761682</td>\n    </tr>\n    <tr>\n      <th>41566</th>\n      <td>Chronicles of Narnia: The Lion, the Witch and ...</td>\n      <td>Adventure|Children|Fantasy</td>\n      <td>62.0</td>\n      <td>3.443548</td>\n    </tr>\n    <tr>\n      <th>50601</th>\n      <td>Bridge to Terabithia (2007)</td>\n      <td>Adventure|Children|Fantasy</td>\n      <td>9.0</td>\n      <td>2.777778</td>\n    </tr>\n    <tr>\n      <th>56171</th>\n      <td>Golden Compass, The (2007)</td>\n      <td>Adventure|Children|Fantasy</td>\n      <td>18.0</td>\n      <td>3.111111</td>\n    </tr>\n    <tr>\n      <th>56915</th>\n      <td>Water Horse: Legend of the Deep, The (2007)</td>\n      <td>Adventure|Children|Fantasy</td>\n      <td>1.0</td>\n      <td>4.000000</td>\n    </tr>\n    <tr>\n      <th>59501</th>\n      <td>Chronicles of Narnia: Prince Caspian, The (2008)</td>\n      <td>Adventure|Children|Fantasy</td>\n      <td>12.0</td>\n      <td>3.541667</td>\n    </tr>\n    <tr>\n      <th>80748</th>\n      <td>Alice in Wonderland (1933)</td>\n      <td>Adventure|Children|Fantasy</td>\n      <td>1.0</td>\n      <td>4.000000</td>\n    </tr>\n    <tr>\n      <th>82169</th>\n      <td>Chronicles of Narnia: The Voyage of the Dawn T...</td>\n      <td>Adventure|Children|Fantasy</td>\n      <td>7.0</td>\n      <td>3.857143</td>\n    </tr>\n    <tr>\n      <th>104074</th>\n      <td>Percy Jackson: Sea of Monsters (2013)</td>\n      <td>Adventure|Children|Fantasy</td>\n      <td>2.0</td>\n      <td>1.750000</td>\n    </tr>\n    <tr>\n      <th>119655</th>\n      <td>Seventh Son (2014)</td>\n      <td>Adventure|Children|Fantasy</td>\n      <td>2.0</td>\n      <td>2.250000</td>\n    </tr>\n    <tr>\n      <th>126142</th>\n      <td>The Cave of the Golden Rose (1991)</td>\n      <td>Adventure|Children|Fantasy</td>\n      <td>1.0</td>\n      <td>4.000000</td>\n    </tr>\n    <tr>\n      <th>130450</th>\n      <td>Pan (2015)</td>\n      <td>Adventure|Children|Fantasy</td>\n      <td>3.0</td>\n      <td>2.500000</td>\n    </tr>\n    <tr>\n      <th>158813</th>\n      <td>Alice Through the Looking Glass (2016)</td>\n      <td>Adventure|Children|Fantasy</td>\n      <td>4.0</td>\n      <td>2.000000</td>\n    </tr>\n    <tr>\n      <th>160573</th>\n      <td>Pete's Dragon (2016)</td>\n      <td>Adventure|Children|Fantasy</td>\n      <td>1.0</td>\n      <td>3.000000</td>\n    </tr>\n    <tr>\n      <th>173873</th>\n      <td>Gulliver's Travels (1996)</td>\n      <td>Adventure|Children|Fantasy</td>\n      <td>1.0</td>\n      <td>2.000000</td>\n    </tr>\n  </tbody>\n</table>\n</div>"
     },
     "metadata": {},
     "execution_count": 42
    }
   ],
   "source": [
    "filmes.query(\"generos=='Adventure|Children|Fantasy'\")"
   ]
  },
  {
   "cell_type": "code",
   "execution_count": 43,
   "metadata": {},
   "outputs": [
    {
     "output_type": "execute_result",
     "data": {
      "text/plain": [
       "                                                    titulo  \\\n",
       "filmeId                                                      \n",
       "4896     Harry Potter and the Sorcerer's Stone (a.k.a. ...   \n",
       "2161                         NeverEnding Story, The (1984)   \n",
       "59501     Chronicles of Narnia: Prince Caspian, The (2008)   \n",
       "41566    Chronicles of Narnia: The Lion, the Witch and ...   \n",
       "2                                           Jumanji (1995)   \n",
       "60                      Indian in the Cupboard, The (1995)   \n",
       "56171                           Golden Compass, The (2007)   \n",
       "\n",
       "                            generos  total_de_votos  nota_media  \n",
       "filmeId                                                          \n",
       "4896     Adventure|Children|Fantasy           107.0    3.761682  \n",
       "2161     Adventure|Children|Fantasy            43.0    3.581395  \n",
       "59501    Adventure|Children|Fantasy            12.0    3.541667  \n",
       "41566    Adventure|Children|Fantasy            62.0    3.443548  \n",
       "2        Adventure|Children|Fantasy           110.0    3.431818  \n",
       "60       Adventure|Children|Fantasy            34.0    3.235294  \n",
       "56171    Adventure|Children|Fantasy            18.0    3.111111  "
      ],
      "text/html": "<div>\n<style scoped>\n    .dataframe tbody tr th:only-of-type {\n        vertical-align: middle;\n    }\n\n    .dataframe tbody tr th {\n        vertical-align: top;\n    }\n\n    .dataframe thead th {\n        text-align: right;\n    }\n</style>\n<table border=\"1\" class=\"dataframe\">\n  <thead>\n    <tr style=\"text-align: right;\">\n      <th></th>\n      <th>titulo</th>\n      <th>generos</th>\n      <th>total_de_votos</th>\n      <th>nota_media</th>\n    </tr>\n    <tr>\n      <th>filmeId</th>\n      <th></th>\n      <th></th>\n      <th></th>\n      <th></th>\n    </tr>\n  </thead>\n  <tbody>\n    <tr>\n      <th>4896</th>\n      <td>Harry Potter and the Sorcerer's Stone (a.k.a. ...</td>\n      <td>Adventure|Children|Fantasy</td>\n      <td>107.0</td>\n      <td>3.761682</td>\n    </tr>\n    <tr>\n      <th>2161</th>\n      <td>NeverEnding Story, The (1984)</td>\n      <td>Adventure|Children|Fantasy</td>\n      <td>43.0</td>\n      <td>3.581395</td>\n    </tr>\n    <tr>\n      <th>59501</th>\n      <td>Chronicles of Narnia: Prince Caspian, The (2008)</td>\n      <td>Adventure|Children|Fantasy</td>\n      <td>12.0</td>\n      <td>3.541667</td>\n    </tr>\n    <tr>\n      <th>41566</th>\n      <td>Chronicles of Narnia: The Lion, the Witch and ...</td>\n      <td>Adventure|Children|Fantasy</td>\n      <td>62.0</td>\n      <td>3.443548</td>\n    </tr>\n    <tr>\n      <th>2</th>\n      <td>Jumanji (1995)</td>\n      <td>Adventure|Children|Fantasy</td>\n      <td>110.0</td>\n      <td>3.431818</td>\n    </tr>\n    <tr>\n      <th>60</th>\n      <td>Indian in the Cupboard, The (1995)</td>\n      <td>Adventure|Children|Fantasy</td>\n      <td>34.0</td>\n      <td>3.235294</td>\n    </tr>\n    <tr>\n      <th>56171</th>\n      <td>Golden Compass, The (2007)</td>\n      <td>Adventure|Children|Fantasy</td>\n      <td>18.0</td>\n      <td>3.111111</td>\n    </tr>\n  </tbody>\n</table>\n</div>"
     },
     "metadata": {},
     "execution_count": 43
    }
   ],
   "source": [
    "aventura_infantil_e_fantasia = filmes_com_mais_de_50_votos.query(\"generos=='Adventure|Children|Fantasy'\")\n",
    "aventura_infantil_e_fantasia.sort_values(\"nota_media\", ascending = False).head(10)"
   ]
  },
  {
   "cell_type": "code",
   "execution_count": 44,
   "metadata": {},
   "outputs": [
    {
     "output_type": "execute_result",
     "data": {
      "text/plain": [
       "                                                    titulo  \\\n",
       "filmeId                                                      \n",
       "4896     Harry Potter and the Sorcerer's Stone (a.k.a. ...   \n",
       "2161                         NeverEnding Story, The (1984)   \n",
       "59501     Chronicles of Narnia: Prince Caspian, The (2008)   \n",
       "41566    Chronicles of Narnia: The Lion, the Witch and ...   \n",
       "60                      Indian in the Cupboard, The (1995)   \n",
       "56171                           Golden Compass, The (2007)   \n",
       "\n",
       "                            generos  total_de_votos  nota_media  \n",
       "filmeId                                                          \n",
       "4896     Adventure|Children|Fantasy           107.0    3.761682  \n",
       "2161     Adventure|Children|Fantasy            43.0    3.581395  \n",
       "59501    Adventure|Children|Fantasy            12.0    3.541667  \n",
       "41566    Adventure|Children|Fantasy            62.0    3.443548  \n",
       "60       Adventure|Children|Fantasy            34.0    3.235294  \n",
       "56171    Adventure|Children|Fantasy            18.0    3.111111  "
      ],
      "text/html": "<div>\n<style scoped>\n    .dataframe tbody tr th:only-of-type {\n        vertical-align: middle;\n    }\n\n    .dataframe tbody tr th {\n        vertical-align: top;\n    }\n\n    .dataframe thead th {\n        text-align: right;\n    }\n</style>\n<table border=\"1\" class=\"dataframe\">\n  <thead>\n    <tr style=\"text-align: right;\">\n      <th></th>\n      <th>titulo</th>\n      <th>generos</th>\n      <th>total_de_votos</th>\n      <th>nota_media</th>\n    </tr>\n    <tr>\n      <th>filmeId</th>\n      <th></th>\n      <th></th>\n      <th></th>\n      <th></th>\n    </tr>\n  </thead>\n  <tbody>\n    <tr>\n      <th>4896</th>\n      <td>Harry Potter and the Sorcerer's Stone (a.k.a. ...</td>\n      <td>Adventure|Children|Fantasy</td>\n      <td>107.0</td>\n      <td>3.761682</td>\n    </tr>\n    <tr>\n      <th>2161</th>\n      <td>NeverEnding Story, The (1984)</td>\n      <td>Adventure|Children|Fantasy</td>\n      <td>43.0</td>\n      <td>3.581395</td>\n    </tr>\n    <tr>\n      <th>59501</th>\n      <td>Chronicles of Narnia: Prince Caspian, The (2008)</td>\n      <td>Adventure|Children|Fantasy</td>\n      <td>12.0</td>\n      <td>3.541667</td>\n    </tr>\n    <tr>\n      <th>41566</th>\n      <td>Chronicles of Narnia: The Lion, the Witch and ...</td>\n      <td>Adventure|Children|Fantasy</td>\n      <td>62.0</td>\n      <td>3.443548</td>\n    </tr>\n    <tr>\n      <th>60</th>\n      <td>Indian in the Cupboard, The (1995)</td>\n      <td>Adventure|Children|Fantasy</td>\n      <td>34.0</td>\n      <td>3.235294</td>\n    </tr>\n    <tr>\n      <th>56171</th>\n      <td>Golden Compass, The (2007)</td>\n      <td>Adventure|Children|Fantasy</td>\n      <td>18.0</td>\n      <td>3.111111</td>\n    </tr>\n  </tbody>\n</table>\n</div>"
     },
     "metadata": {},
     "execution_count": 44
    }
   ],
   "source": [
    "aventura_infantil_e_fantasia = filmes_com_mais_de_50_votos.query(\"generos=='Adventure|Children|Fantasy'\")\n",
    "aventura_infantil_e_fantasia.drop(eu_assisti, errors='ignore').sort_values(\"nota_media\", ascending = False).head(10)"
   ]
  },
  {
   "source": [
    "## **visão geral de abordagens de recomendação**"
   ],
   "cell_type": "markdown",
   "metadata": {}
  },
  {
   "source": [
    "* Collaborative filtering = filtro baseado na colaboração dos usuários\n",
    "* content based filtering = Baseado em contéudos"
   ],
   "cell_type": "markdown",
   "metadata": {}
  },
  {
   "cell_type": "code",
   "execution_count": null,
   "metadata": {},
   "outputs": [],
   "source": []
  }
 ]
}